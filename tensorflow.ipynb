{
 "cells": [
  {
   "cell_type": "markdown",
   "metadata": {},
   "source": [
    "# Data"
   ]
  },
  {
   "cell_type": "code",
   "execution_count": 1,
   "metadata": {
    "collapsed": false
   },
   "outputs": [],
   "source": [
    "# Base\n",
    "import numpy as np\n",
    "import pandas as pd\n",
    "import re\n",
    "from pymongo import MongoClient"
   ]
  },
  {
   "cell_type": "code",
   "execution_count": 2,
   "metadata": {
    "collapsed": false
   },
   "outputs": [],
   "source": [
    "# NLP\n",
    "from sklearn.feature_extraction.text import CountVectorizer, TfidfTransformer, TfidfVectorizer\n",
    "from sklearn.decomposition import TruncatedSVD, NMF\n",
    "from sklearn.preprocessing import Normalizer\n",
    "from gensim.models import Word2Vec"
   ]
  },
  {
   "cell_type": "code",
   "execution_count": 3,
   "metadata": {
    "collapsed": false
   },
   "outputs": [],
   "source": [
    "# Modeling\n",
    "from sklearn.cross_validation import train_test_split\n",
    "from sklearn.pipeline import Pipeline, FeatureUnion\n",
    "from sklearn.base import TransformerMixin\n",
    "from sklearn.metrics import roc_auc_score"
   ]
  },
  {
   "cell_type": "code",
   "execution_count": 4,
   "metadata": {
    "collapsed": true
   },
   "outputs": [],
   "source": [
    "# Connect to MongoDB\n",
    "client = MongoClient()\n",
    "client.database_names()\n",
    "db = client.yelp\n",
    "collection = db.reviews"
   ]
  },
  {
   "cell_type": "code",
   "execution_count": 5,
   "metadata": {
    "collapsed": false
   },
   "outputs": [
    {
     "data": {
      "text/plain": [
       "7303"
      ]
     },
     "execution_count": 5,
     "metadata": {},
     "output_type": "execute_result"
    }
   ],
   "source": [
    "# Funny reviews\n",
    "funnies = collection.find({'votes.funny':{'$gt':10}})\n",
    "funnies.count()"
   ]
  },
  {
   "cell_type": "code",
   "execution_count": 6,
   "metadata": {
    "collapsed": false
   },
   "outputs": [
    {
     "data": {
      "text/plain": [
       "'Mr Hoagie is an institution. Walking in, it does seem like a throwback to 30 years ago, old fashioned menu board, booths out of the 70s, and a large selection of food. Their speciality is the Italian Hoagie, and it is voted the best in the area year after year. I usually order the burger, while the patties are obviously cooked from frozen, all of the other ingredients are very fresh. Overall, its a good alternative to Subway, which is down the road.'"
      ]
     },
     "execution_count": 6,
     "metadata": {},
     "output_type": "execute_result"
    }
   ],
   "source": [
    "# Non-funny reviews\n",
    "non_funnies = collection.find({'votes.funny':{'$lt':10}})\n",
    "non_funnies.next()['text']"
   ]
  },
  {
   "cell_type": "code",
   "execution_count": 7,
   "metadata": {
    "collapsed": false
   },
   "outputs": [
    {
     "data": {
      "text/plain": [
       "\"Excellent food. Superb customer service. I miss the mario machines they used to have, but it's still a great place steeped in tradition.\""
      ]
     },
     "execution_count": 7,
     "metadata": {},
     "output_type": "execute_result"
    }
   ],
   "source": [
    "# Data to lists\n",
    "reviews = []\n",
    "idx = []\n",
    "for i in funnies:\n",
    "    reviews.append(i['text'])\n",
    "    idx.append(1)\n",
    "    reviews.append(non_funnies.next()['text'])\n",
    "    idx.append(0)\n",
    "reviews = pd.Series(reviews)\n",
    "reviews[1]"
   ]
  },
  {
   "cell_type": "code",
   "execution_count": 8,
   "metadata": {
    "collapsed": true
   },
   "outputs": [],
   "source": [
    "# Additional features\n",
    "class LengthTransformer(TransformerMixin):\n",
    "    def transform(self, X, **transform_params):\n",
    "        lengths = pd.DataFrame(X.apply(lambda x: len(x.split())))\n",
    "        return lengths\n",
    "    def fit(self, X, y=None, **fit_params):\n",
    "        return self\n",
    "class CapTransformer(TransformerMixin):\n",
    "    def transform(self, X, **transform_params):\n",
    "        cap_lengths = pd.DataFrame(X.apply(lambda x: len([i for i in x.split() if i[0].isupper()])))\n",
    "        return cap_lengths\n",
    "    def fit(self, X, y=None, **fit_params):\n",
    "        return self\n",
    "class NumCount(TransformerMixin):\n",
    "    def transform(self, X, **transform_params): \n",
    "        return pd.DataFrame(X.apply(lambda x: len(re.findall(r'\\d', x))))\n",
    "    def fit(self, X, y=None, **fit_params):\n",
    "        return self\n",
    "class WordVec(TransformerMixin):\n",
    "    def transform(self, X, **transform_params):\n",
    "        # Train word2vec\n",
    "        texts = [[word for word in document.lower().split()] for document in X]\n",
    "        w2v = Word2Vec(texts, size=100, window=5, min_count=1, workers=4, sg=0)\n",
    "        # Make features\n",
    "        def word2vec(document):\n",
    "            vectors = pd.Series([w2v[word] for word in document.lower().split()]).mean()\n",
    "            return pd.Series(vectors)\n",
    "        df = pd.concat([word2vec(X.iloc[idx]) for idx in range(len(X))], axis=1).T\n",
    "        return df\n",
    "    def fit(self, X, y=None, **fit_params):\n",
    "        return self"
   ]
  },
  {
   "cell_type": "code",
   "execution_count": 9,
   "metadata": {
    "collapsed": false
   },
   "outputs": [],
   "source": [
    "features = FeatureUnion([\n",
    "        ('count_vect', TfidfVectorizer(stop_words='english')),\n",
    "        ('length', LengthTransformer()),\n",
    "        ('caps', CapTransformer()),\n",
    "        ('num_of_num', NumCount()),\n",
    "        ('word2vec', WordVec())])\n",
    "data = features.fit_transform(reviews)"
   ]
  },
  {
   "cell_type": "code",
   "execution_count": 10,
   "metadata": {
    "collapsed": false
   },
   "outputs": [],
   "source": [
    "lsa = TruncatedSVD(n_components=500)\n",
    "dat = lsa.fit_transform(data)"
   ]
  },
  {
   "cell_type": "code",
   "execution_count": 11,
   "metadata": {
    "collapsed": false
   },
   "outputs": [],
   "source": [
    "X_train, X_test, y_train, y_test = train_test_split(dat,idx,test_size=.2,random_state=42)"
   ]
  },
  {
   "cell_type": "code",
   "execution_count": 12,
   "metadata": {
    "collapsed": false
   },
   "outputs": [],
   "source": [
    "X_train = X_train\n",
    "X_test = X_test\n",
    "y_train = np.array([np.float64(i) for i in y_train])\n",
    "y_train.shape = (len(y_train),1)\n",
    "y_train = np.concatenate((y_train,1-y_train),axis=1)\n",
    "y_test = np.array([np.float64(i) for i in y_test])\n",
    "y_test.shape = (len(y_test),1)\n",
    "y_test = np.concatenate((y_test,1-y_test),axis=1)"
   ]
  },
  {
   "cell_type": "markdown",
   "metadata": {
    "collapsed": true
   },
   "source": [
    "# TensorFlow"
   ]
  },
  {
   "cell_type": "code",
   "execution_count": 13,
   "metadata": {
    "collapsed": false
   },
   "outputs": [],
   "source": [
    "import tensorflow as tf"
   ]
  },
  {
   "cell_type": "code",
   "execution_count": 14,
   "metadata": {
    "collapsed": true
   },
   "outputs": [],
   "source": [
    "from tensorflow.examples.tutorials.mnist import input_data"
   ]
  },
  {
   "cell_type": "code",
   "execution_count": 15,
   "metadata": {
    "collapsed": false
   },
   "outputs": [
    {
     "name": "stdout",
     "output_type": "stream",
     "text": [
      "Extracting MNIST_data/train-images-idx3-ubyte.gz\n",
      "Extracting MNIST_data/train-labels-idx1-ubyte.gz\n",
      "Extracting MNIST_data/t10k-images-idx3-ubyte.gz\n",
      "Extracting MNIST_data/t10k-labels-idx1-ubyte.gz\n"
     ]
    }
   ],
   "source": [
    "mnist = input_data.read_data_sets('MNIST_data/', one_hot=True)\n",
    "mnist_X_train = mnist.train.images\n",
    "mnist_y_train = mnist.train.labels \n",
    "mnist_X_test = mnist.test.images\n",
    "mnist_y_test = mnist.test.labels"
   ]
  },
  {
   "cell_type": "code",
   "execution_count": 16,
   "metadata": {
    "collapsed": false
   },
   "outputs": [
    {
     "name": "stdout",
     "output_type": "stream",
     "text": [
      "MNIST\n",
      "X_train: <class 'numpy.ndarray'> (55000, 784)\n",
      "y_train: <class 'numpy.ndarray'> (55000, 10)\n",
      "X_test: <class 'numpy.ndarray'> (10000, 784)\n",
      "y_test: <class 'numpy.ndarray'> (10000, 10)\n"
     ]
    }
   ],
   "source": [
    "print(\"MNIST\")\n",
    "print(\"X_train: \"+str(type(mnist_X_train))+\" \"+str(mnist_X_train.shape))\n",
    "print(\"y_train: \"+str(type(mnist_y_train))+\" \"+str(mnist_y_train.shape))\n",
    "print(\"X_test: \"+str(type(mnist_X_test))+\" \"+str(mnist_X_test.shape))\n",
    "print(\"y_test: \"+str(type(mnist_y_test))+\" \"+str(mnist_y_test.shape))"
   ]
  },
  {
   "cell_type": "code",
   "execution_count": 17,
   "metadata": {
    "collapsed": false
   },
   "outputs": [
    {
     "name": "stdout",
     "output_type": "stream",
     "text": [
      "REAL\n",
      "X_train: <class 'numpy.ndarray'> (11684, 500)\n",
      "y_train: <class 'numpy.ndarray'> (11684, 2)\n",
      "X_test: <class 'numpy.ndarray'> (2922, 500)\n",
      "y_test: <class 'numpy.ndarray'> (2922, 2)\n"
     ]
    }
   ],
   "source": [
    "print(\"REAL\")\n",
    "print(\"X_train: \"+str(type(X_train))+\" \"+str(X_train.shape))\n",
    "print(\"y_train: \"+str(type(y_train))+\" \"+str(y_train.shape))\n",
    "print(\"X_test: \"+str(type(X_test))+\" \"+str(X_test.shape))\n",
    "print(\"y_test: \"+str(type(y_test))+\" \"+str(y_test.shape))"
   ]
  },
  {
   "cell_type": "code",
   "execution_count": 21,
   "metadata": {
    "collapsed": false
   },
   "outputs": [
    {
     "name": "stderr",
     "output_type": "stream",
     "text": [
      "Exception ignored in: <bound method BaseSession.__del__ of <tensorflow.python.client.session.InteractiveSession object at 0x7f158f5c3da0>>\n",
      "Traceback (most recent call last):\n",
      "  File \"/home/dohyun0012/anaconda3/envs/tensorflow/lib/python3.5/site-packages/tensorflow/python/client/session.py\", line 171, in __del__\n",
      "    self.close()\n",
      "  File \"/home/dohyun0012/anaconda3/envs/tensorflow/lib/python3.5/site-packages/tensorflow/python/client/session.py\", line 976, in close\n",
      "    self._default_session.__exit__(None, None, None)\n",
      "  File \"/home/dohyun0012/anaconda3/envs/tensorflow/lib/python3.5/contextlib.py\", line 66, in __exit__\n",
      "    next(self.gen)\n",
      "  File \"/home/dohyun0012/anaconda3/envs/tensorflow/lib/python3.5/site-packages/tensorflow/python/framework/ops.py\", line 3378, in get_controller\n",
      "    % type(default))\n",
      "AssertionError: Nesting violated for default stack of <class 'weakref'> objects\n"
     ]
    },
    {
     "name": "stdout",
     "output_type": "stream",
     "text": [
      "Accuracy: 0.50924\n"
     ]
    }
   ],
   "source": [
    "sess = tf.InteractiveSession()\n",
    "\n",
    "# Create the model\n",
    "x = tf.placeholder(tf.float32, [None, 500])\n",
    "W1 = tf.Variable(tf.zeros([500,10]))\n",
    "b1 = tf.Variable(tf.zeros([10]))\n",
    "h1 = tf.matmul(x, W1) + b1\n",
    "# W2 = tf.Variable(tf.zeros([10,10]))\n",
    "# b2 = tf.Variable(tf.zeros([10]))\n",
    "# h2 = tf.matmul(h1, W2) + b2\n",
    "W3 = tf.Variable(tf.zeros([10,2]))\n",
    "b3 = tf.Variable(tf.zeros([2]))\n",
    "y = tf.nn.softmax(tf.matmul(h2, W3) + b3)\n",
    "\n",
    "# Define loss and optimizer\n",
    "y_ = tf.placeholder(tf.float32, [None, 2])\n",
    "cross_entropy = tf.reduce_mean(-tf.reduce_sum(y_ * tf.log(y), reduction_indices=[1]))\n",
    "train_step = tf.train.GradientDescentOptimizer(.05).minimize(cross_entropy)\n",
    "\n",
    "# Train\n",
    "tf.initialize_all_variables().run()\n",
    "for i in range(100):\n",
    "    xs = X_train[100*i:100*(i+1)]\n",
    "    ys = y_train[100*i:100*(i+1)]\n",
    "    train_step.run({x: xs, y_: ys})\n",
    "\n",
    "# for i in range(100):\n",
    "#     xs = X_train[100*i:100*(i+1)]\n",
    "#     ys = y_train[100*i:100*(i+1)]\n",
    "#     train_step.run({x: xs, y_: ys})\n",
    "\n",
    "# Test trained model\n",
    "correct_prediction = tf.equal(tf.argmax(y, 1), tf.argmax(y_, 1))\n",
    "accuracy = tf.reduce_mean(tf.cast(correct_prediction, tf.float32))\n",
    "print(\"Accuracy: \"+ str(accuracy.eval({x: X_test, y_: y_test})))\n",
    "# print(\"Train Accuracy: \"+ str(accuracy.eval({x: X_train, y_: y_train})))\n",
    "\n",
    "sess.close()"
   ]
  }
 ],
 "metadata": {
  "anaconda-cloud": {},
  "kernelspec": {
   "display_name": "Python [tensorflow]",
   "language": "python",
   "name": "Python [tensorflow]"
  },
  "language_info": {
   "codemirror_mode": {
    "name": "ipython",
    "version": 3
   },
   "file_extension": ".py",
   "mimetype": "text/x-python",
   "name": "python",
   "nbconvert_exporter": "python",
   "pygments_lexer": "ipython3",
   "version": "3.5.2"
  }
 },
 "nbformat": 4,
 "nbformat_minor": 0
}
