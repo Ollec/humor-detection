{
 "cells": [
  {
   "cell_type": "markdown",
   "metadata": {},
   "source": [
    "# Imports"
   ]
  },
  {
   "cell_type": "code",
   "execution_count": 1,
   "metadata": {
    "collapsed": false
   },
   "outputs": [],
   "source": [
    "# Base\n",
    "import numpy as np\n",
    "import pandas as pd\n",
    "import re\n",
    "from pymongo import MongoClient"
   ]
  },
  {
   "cell_type": "code",
   "execution_count": 2,
   "metadata": {
    "collapsed": true
   },
   "outputs": [],
   "source": [
    "# NLP\n",
    "from sklearn.feature_extraction.text import CountVectorizer, TfidfTransformer, TfidfVectorizer\n",
    "from sklearn.decomposition import TruncatedSVD, NMF\n",
    "from sklearn.preprocessing import Normalizer\n",
    "from gensim.models import Word2Vec"
   ]
  },
  {
   "cell_type": "code",
   "execution_count": 3,
   "metadata": {
    "collapsed": false
   },
   "outputs": [],
   "source": [
    "# Modeling\n",
    "from sklearn.cross_validation import train_test_split\n",
    "from sklearn.pipeline import Pipeline, FeatureUnion\n",
    "from sklearn.base import TransformerMixin\n",
    "from sklearn.ensemble import RandomForestClassifier\n",
    "from sklearn.linear_model import LogisticRegression\n",
    "from sklearn.naive_bayes import MultinomialNB\n",
    "from xgboost import XGBClassifier\n",
    "from sklearn.metrics import roc_auc_score"
   ]
  },
  {
   "cell_type": "markdown",
   "metadata": {},
   "source": [
    "# Data"
   ]
  },
  {
   "cell_type": "code",
   "execution_count": 4,
   "metadata": {
    "collapsed": false
   },
   "outputs": [],
   "source": [
    "# Connect to MongoDB\n",
    "client = MongoClient()\n",
    "client.database_names()\n",
    "db = client.yelp\n",
    "collection = db.reviews"
   ]
  },
  {
   "cell_type": "code",
   "execution_count": 5,
   "metadata": {
    "collapsed": false
   },
   "outputs": [
    {
     "data": {
      "text/plain": [
       "7303"
      ]
     },
     "execution_count": 5,
     "metadata": {},
     "output_type": "execute_result"
    }
   ],
   "source": [
    "# Funny reviews\n",
    "funnies = collection.find({'votes.funny':{'$gt':10}})\n",
    "funnies.count()"
   ]
  },
  {
   "cell_type": "code",
   "execution_count": 6,
   "metadata": {
    "collapsed": false
   },
   "outputs": [
    {
     "data": {
      "text/plain": [
       "'Mr Hoagie is an institution. Walking in, it does seem like a throwback to 30 years ago, old fashioned menu board, booths out of the 70s, and a large selection of food. Their speciality is the Italian Hoagie, and it is voted the best in the area year after year. I usually order the burger, while the patties are obviously cooked from frozen, all of the other ingredients are very fresh. Overall, its a good alternative to Subway, which is down the road.'"
      ]
     },
     "execution_count": 6,
     "metadata": {},
     "output_type": "execute_result"
    }
   ],
   "source": [
    "# Non-funny reviews\n",
    "non_funnies = collection.find({'votes.funny':{'$lt':10}})\n",
    "non_funnies.next()['text']"
   ]
  },
  {
   "cell_type": "code",
   "execution_count": 7,
   "metadata": {
    "collapsed": false
   },
   "outputs": [
    {
     "data": {
      "text/plain": [
       "\"Excellent food. Superb customer service. I miss the mario machines they used to have, but it's still a great place steeped in tradition.\""
      ]
     },
     "execution_count": 7,
     "metadata": {},
     "output_type": "execute_result"
    }
   ],
   "source": [
    "# Data to lists\n",
    "reviews = []\n",
    "idx = []\n",
    "for i in funnies:\n",
    "    reviews.append(i['text'])\n",
    "    idx.append(1)\n",
    "    reviews.append(non_funnies.next()['text'])\n",
    "    idx.append(0)\n",
    "reviews = pd.Series(reviews)\n",
    "reviews[1]"
   ]
  },
  {
   "cell_type": "code",
   "execution_count": 8,
   "metadata": {
    "collapsed": true
   },
   "outputs": [],
   "source": [
    "X_train, X_test, y_train, y_test = train_test_split(reviews,idx,test_size=.2,random_state=42)"
   ]
  },
  {
   "cell_type": "code",
   "execution_count": 9,
   "metadata": {
    "collapsed": false
   },
   "outputs": [],
   "source": [
    "X_train.reset_index\n",
    "X_test.reset_index;"
   ]
  },
  {
   "cell_type": "markdown",
   "metadata": {},
   "source": [
    "# NLP"
   ]
  },
  {
   "cell_type": "code",
   "execution_count": 10,
   "metadata": {
    "collapsed": false
   },
   "outputs": [],
   "source": [
    "# Additional features\n",
    "class LengthTransformer(TransformerMixin):\n",
    "    def transform(self, X, **transform_params):\n",
    "        lengths = pd.DataFrame(X.apply(lambda x: len(x.split())))\n",
    "        return lengths\n",
    "    def fit(self, X, y=None, **fit_params):\n",
    "        return self\n",
    "class CapTransformer(TransformerMixin):\n",
    "    def transform(self, X, **transform_params):\n",
    "        cap_lengths = pd.DataFrame(X.apply(lambda x: len([i for i in x.split() if i[0].isupper()])))\n",
    "        return cap_lengths\n",
    "    def fit(self, X, y=None, **fit_params):\n",
    "        return self\n",
    "class CapAllTransformer(TransformerMixin):\n",
    "    def transform(self, X, **transform_params):\n",
    "        cap_lengths = pd.DataFrame(X.apply(lambda x: len([i for i in x.split() if i.isupper()])))\n",
    "        return cap_lengths\n",
    "    def fit(self, X, y=None, **fit_params):\n",
    "        return self\n",
    "class NumCount(TransformerMixin):\n",
    "    def transform(self, X, **transform_params): \n",
    "        return pd.DataFrame(X.apply(lambda x: len(re.findall(r'\\d', x))))\n",
    "    def fit(self, X, y=None, **fit_params):\n",
    "        return self\n",
    "class ToArray(TransformerMixin):\n",
    "    def transform(self, X, **transform_params): \n",
    "        return pd.DataFrame(X.toarray())\n",
    "    def fit(self, X, y=None, **fit_params):\n",
    "        return self\n",
    "class WordVec(TransformerMixin):\n",
    "    def transform(self, X, **transform_params):\n",
    "        # Train word2vec\n",
    "        texts = [[word for word in document.lower().split()] for document in X]\n",
    "        w2v = Word2Vec(texts, size=100, window=5, min_count=1, workers=4, sg=0)\n",
    "        # Make features\n",
    "        def word2vec(document):\n",
    "            vectors = pd.Series([w2v[word] for word in document.lower().split()]).mean()\n",
    "            return pd.Series(vectors)\n",
    "        df = pd.concat([word2vec(X.iloc[idx]) for idx in range(len(X))], axis=1).T\n",
    "        return df\n",
    "    def fit(self, X, y=None, **fit_params):\n",
    "        return self"
   ]
  },
  {
   "cell_type": "markdown",
   "metadata": {},
   "source": [
    "# Model"
   ]
  },
  {
   "cell_type": "code",
   "execution_count": 11,
   "metadata": {
    "collapsed": false
   },
   "outputs": [
    {
     "name": "stdout",
     "output_type": "stream",
     "text": [
      "Accuray: 0.91\n",
      "Roc_Auc: 0.967\n"
     ]
    }
   ],
   "source": [
    "log_pipe = Pipeline([\n",
    "    ('features', FeatureUnion([\n",
    "        ('count_vect', CountVectorizer()),\n",
    "        ('length', LengthTransformer()),\n",
    "        ('caps', CapTransformer()),\n",
    "        ('all_caps', CapAllTransformer()),\n",
    "        ('num_of_num', NumCount())])),\n",
    "    ('model', LogisticRegression())])\n",
    "log_pipe.fit(X_train,y_train)\n",
    "print('Accuray: '+str(round(log_pipe.score(X_test,y_test),3)))\n",
    "y_pred = log_pipe.predict_proba(X_test)[:,1]\n",
    "print(\"Roc_Auc: \"+str(round(roc_auc_score(y_test,y_pred),3)))"
   ]
  },
  {
   "cell_type": "code",
   "execution_count": 12,
   "metadata": {
    "collapsed": false
   },
   "outputs": [
    {
     "name": "stdout",
     "output_type": "stream",
     "text": [
      "Accuray: 0.765\n",
      "Roc_Auc: 0.849\n"
     ]
    }
   ],
   "source": [
    "rfr_pipe = Pipeline([\n",
    "    ('features', FeatureUnion([\n",
    "        ('tfidf_lsa', Pipeline([\n",
    "            ('tfidf', CountVectorizer(stop_words='english',min_df=10)),\n",
    "            ('lsa', TruncatedSVD())])),\n",
    "        ('length', LengthTransformer()),\n",
    "        ('caps', CapTransformer()),\n",
    "        ('all_caps', CapAllTransformer()),\n",
    "        ('num_of_num', NumCount()),\n",
    "        ('word2vec', WordVec())])),\n",
    "    ('model', RandomForestClassifier(n_estimators=500))])\n",
    "rfr_pipe.fit(X_train,y_train)\n",
    "print('Accuray: '+str(round(rfr_pipe.score(X_test,y_test),3)))\n",
    "y_pred = rfr_pipe.predict_proba(X_test)[:,1]\n",
    "print(\"Roc_Auc: \"+str(round(roc_auc_score(y_test,y_pred),3)))"
   ]
  },
  {
   "cell_type": "code",
   "execution_count": 13,
   "metadata": {
    "collapsed": false
   },
   "outputs": [
    {
     "name": "stdout",
     "output_type": "stream",
     "text": [
      "Accuray: 0.903\n",
      "Roc_Auc: 0.949\n"
     ]
    }
   ],
   "source": [
    "nb_pipe = Pipeline([\n",
    "    ('features', FeatureUnion([\n",
    "        ('count_vect', CountVectorizer(stop_words='english', min_df=5)),\n",
    "        ('length', LengthTransformer()),\n",
    "        ('caps', CapTransformer()),\n",
    "        ('all_caps', CapAllTransformer()),\n",
    "        ('num_of_num', NumCount())])),\n",
    "    ('to_array', ToArray()),\n",
    "    ('model', MultinomialNB())])\n",
    "nb_pipe.fit(X_train,y_train)\n",
    "print('Accuray: '+str(round(nb_pipe.score(X_test,y_test),3)))\n",
    "y_pred = nb_pipe.predict_proba(X_test)[:,1]\n",
    "print(\"Roc_Auc: \"+str(round(roc_auc_score(y_test,y_pred),3)))"
   ]
  },
  {
   "cell_type": "code",
   "execution_count": 14,
   "metadata": {
    "collapsed": false
   },
   "outputs": [
    {
     "name": "stdout",
     "output_type": "stream",
     "text": [
      "Accuray: 0.851\n",
      "Roc_Auc: 0.943\n"
     ]
    }
   ],
   "source": [
    "xgb_pipe = Pipeline([\n",
    "    ('features', FeatureUnion([\n",
    "        ('tfidf_lsa', Pipeline([\n",
    "            ('tfidf', TfidfVectorizer(stop_words='english',min_df=10)),\n",
    "            ('lsa', TruncatedSVD(n_components=100))])),\n",
    "        ('length', LengthTransformer()),\n",
    "        ('caps', CapTransformer()),\n",
    "        ('num_of_num', NumCount()),\n",
    "        ('word2vec', WordVec())])),\n",
    "    ('model', XGBClassifier())])\n",
    "xgb_pipe.fit(X_train,y_train)\n",
    "print('Accuray: '+str(round(xgb_pipe.score(X_test,y_test),3)))\n",
    "y_pred = xgb_pipe.predict_proba(X_test)[:,1]\n",
    "print(\"Roc_Auc: \"+str(round(roc_auc_score(y_test,y_pred),3)))"
   ]
  },
  {
   "cell_type": "code",
   "execution_count": 15,
   "metadata": {
    "collapsed": false
   },
   "outputs": [],
   "source": [
    "def funny_or_not(string):\n",
    "    if log_pipe.predict(pd.Series([string])) == np.array([1]):\n",
    "        print(\"You funny\")\n",
    "    else:\n",
    "        print(\"You not funny\")"
   ]
  },
  {
   "cell_type": "code",
   "execution_count": 25,
   "metadata": {
    "collapsed": false
   },
   "outputs": [
    {
     "name": "stdout",
     "output_type": "stream",
     "text": [
      "You not funny\n"
     ]
    }
   ],
   "source": [
    "funny_or_not(\"I am funny.\")"
   ]
  },
  {
   "cell_type": "code",
   "execution_count": 26,
   "metadata": {
    "collapsed": false
   },
   "outputs": [
    {
     "name": "stdout",
     "output_type": "stream",
     "text": [
      "You not funny\n"
     ]
    }
   ],
   "source": [
    "funny_or_not(\"yolo swag 420\")"
   ]
  },
  {
   "cell_type": "code",
   "execution_count": 27,
   "metadata": {
    "collapsed": false
   },
   "outputs": [
    {
     "name": "stdout",
     "output_type": "stream",
     "text": [
      "You funny\n"
     ]
    }
   ],
   "source": [
    "funny_or_not(X_train.iloc[0])"
   ]
  },
  {
   "cell_type": "code",
   "execution_count": 19,
   "metadata": {
    "collapsed": false
   },
   "outputs": [
    {
     "name": "stdout",
     "output_type": "stream",
     "text": [
      "You not funny\n"
     ]
    }
   ],
   "source": [
    "funny_or_not(\"tell me I'm funny\")"
   ]
  }
 ],
 "metadata": {
  "anaconda-cloud": {},
  "kernelspec": {
   "display_name": "Python [Root]",
   "language": "python",
   "name": "Python [Root]"
  },
  "language_info": {
   "codemirror_mode": {
    "name": "ipython",
    "version": 3
   },
   "file_extension": ".py",
   "mimetype": "text/x-python",
   "name": "python",
   "nbconvert_exporter": "python",
   "pygments_lexer": "ipython3",
   "version": "3.5.2"
  }
 },
 "nbformat": 4,
 "nbformat_minor": 0
}
